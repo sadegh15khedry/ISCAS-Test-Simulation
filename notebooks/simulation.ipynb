{
 "cells": [
  {
   "cell_type": "code",
   "execution_count": 1,
   "metadata": {},
   "outputs": [],
   "source": [
    "import sys\n",
    "import os\n",
    "sys.path.append('../src/scripts')\n",
    "sys.path.append('../src/classes')\n",
    "from simulation import simulation"
   ]
  },
  {
   "cell_type": "code",
   "execution_count": 2,
   "metadata": {},
   "outputs": [],
   "source": [
    "circuit_name = 'c1'\n",
    "circuit_path = '../src/resources/circuits/'+circuit_name+'.isc'\n",
    "inputs_path = '../src/resources/inputs/'+circuit_name+'.csv'\n",
    "test_vectors_path = '../src/resources/test_vector/'+circuit_name+'.csv'\n",
    "fault_input_path = '../src/resources/fault_input/'+circuit_name+'.csv'"
   ]
  },
  {
   "cell_type": "code",
   "execution_count": 3,
   "metadata": {},
   "outputs": [],
   "source": [
    "simulation_type = 'PODEM'\n",
    "delay_consideration = True\n",
    "input_file_generation = True\n",
    "max_iterations = 70"
   ]
  },
  {
   "cell_type": "code",
   "execution_count": 4,
   "metadata": {},
   "outputs": [
    {
     "name": "stdout",
     "output_type": "stream",
     "text": [
      "level:  1\n",
      "level:  0\n",
      "Circuit Representation:\n",
      "\n",
      "Primary Inputs:\n",
      "  1 (ID: 1)\n",
      "  2 (ID: 2)\n",
      "\n",
      "Gates:\n",
      "  Gate ID: 3\n",
      "    Type: nand\n",
      "    Delay: 5\n",
      "    Level: 1\n",
      "    Inputs: 1 (ID: 1), 2 (ID: 2)\n",
      "    Output: 3 (ID: 3)\n",
      "\n",
      "No Fanouts in the Circuit.\n",
      "\n",
      "Primary Inputs:\n",
      "  1 (ID: 1) controlability:(1 , 1) observability:2\n",
      "  2 (ID: 2) controlability:(1 , 1) observability:2\n",
      "\n",
      "Primary Outputs:\n",
      "  3 (ID: 3) controlability:(3 , 2) observability:0\n",
      "\n",
      "Net connections:\n",
      "\n",
      "\n",
      "PODEM simulations started\n",
      "iteration:1---------------------------------------\n",
      "Connection 1 (ID: 1), stuck_at=0 value:D activation_value=D\n",
      "state: forward\n",
      "False\n",
      "\n",
      "inside iterative\n",
      "inside.....\n",
      "['D', 1]\n",
      "True\n",
      "\n",
      "Podem ended\n",
      "test_vector: [{'connection': '1', 'value': 1}, {'connection': '2', 'value': 1}]\n",
      "-------------------------------------------------------\n",
      "iteration:2---------------------------------------\n",
      "Connection 2 (ID: 2), stuck_at=1 value:D' activation_value=D'\n",
      "state: forward\n",
      "False\n",
      "\n",
      "inside iterative\n",
      "inside.....\n",
      "[1, \"D'\"]\n",
      "True\n",
      "\n",
      "Podem ended\n",
      "test_vector: [{'connection': '1', 'value': 1}, {'connection': '2', 'value': 0}]\n",
      "-------------------------------------------------------\n",
      "-----------------------------------------------------------------\n",
      "PODEM simulations finished\n",
      "Test vectors saved to ../src/resources/test_vector/c1.csv\n"
     ]
    }
   ],
   "source": [
    "simulation(simulation_type, circuit_path, inputs_path, fault_input_path, test_vectors_path, delay_consideration, max_iterations, input_file_generation)"
   ]
  }
 ],
 "metadata": {
  "kernelspec": {
   "display_name": "Python 3 (ipykernel)",
   "language": "python",
   "name": "python3"
  },
  "language_info": {
   "codemirror_mode": {
    "name": "ipython",
    "version": 3
   },
   "file_extension": ".py",
   "mimetype": "text/x-python",
   "name": "python",
   "nbconvert_exporter": "python",
   "pygments_lexer": "ipython3",
   "version": "3.12.7"
  }
 },
 "nbformat": 4,
 "nbformat_minor": 2
}
