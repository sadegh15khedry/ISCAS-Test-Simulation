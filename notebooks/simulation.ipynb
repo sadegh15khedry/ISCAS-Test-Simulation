{
 "cells": [
  {
   "cell_type": "code",
   "execution_count": 1,
   "metadata": {},
   "outputs": [],
   "source": [
    "import sys\n",
    "import os\n",
    "sys.path.append('../src/scripts')\n",
    "sys.path.append('../src/classes')\n",
    "from simulation import simulation"
   ]
  },
  {
   "cell_type": "code",
   "execution_count": 2,
   "metadata": {},
   "outputs": [],
   "source": [
    "circuit_name = 'c1'\n",
    "circuit_path = '../src/resources/circuits/'+circuit_name+'.isc'\n",
    "inputs_path = '../src/resources/inputs/'+circuit_name+'.csv'\n",
    "test_vectors_path = '../src/resources/test_vector/'+circuit_name+'.csv'\n",
    "fault_input_path = '../src/resources/fault_input/'+circuit_name+'.csv'"
   ]
  },
  {
   "cell_type": "code",
   "execution_count": 3,
   "metadata": {},
   "outputs": [],
   "source": [
    "simulation_type = 'PODEM'\n",
    "delay_consideration = True\n",
    "input_file_generation = True\n",
    "max_iterations = 70"
   ]
  },
  {
   "cell_type": "code",
   "execution_count": 4,
   "metadata": {},
   "outputs": [
    {
     "name": "stdout",
     "output_type": "stream",
     "text": [
      "level:  1\n",
      "level:  0\n",
      "Circuit Representation:\n",
      "\n",
      "Primary Inputs:\n",
      "  1 (ID: 1)\n",
      "  2 (ID: 2)\n",
      "\n",
      "Gates:\n",
      "  Gate ID: 3\n",
      "    Type: not\n",
      "    Delay: None\n",
      "    Level: 1\n",
      "    Inputs: 1 (ID: 1)\n",
      "    Output: 3 (ID: 3)\n",
      "\n",
      "No Fanouts in the Circuit.\n",
      "\n",
      "Primary Inputs:\n",
      "  1 (ID: 1) controlability:(1 , 1) observability:1\n",
      "  2 (ID: 2) controlability:(1 , 1) observability:None\n",
      "\n",
      "Primary Outputs:\n",
      "  3 (ID: 3) controlability:(2 , 2) observability:0\n",
      "\n",
      "Net connections:\n",
      "\n",
      "\n",
      "PODEM simulation started\n",
      "iteration:1---------------------------------------\n",
      "Connection 2 (ID: 2), stuck_at=0 value:D activation_value=D\n",
      "fault on input connection\n"
     ]
    },
    {
     "ename": "AttributeError",
     "evalue": "'NoneType' object has no attribute 'gate_type'",
     "output_type": "error",
     "traceback": [
      "\u001b[0;31m---------------------------------------------------------------------------\u001b[0m",
      "\u001b[0;31mAttributeError\u001b[0m                            Traceback (most recent call last)",
      "Cell \u001b[0;32mIn[4], line 1\u001b[0m\n\u001b[0;32m----> 1\u001b[0m simulation(simulation_type, circuit_path, inputs_path, fault_input_path, test_vectors_path, delay_consideration, max_iterations, input_file_generation)\n",
      "File \u001b[0;32m/mnt/c/Sadegh/codes/ISCAS-Test-Simulation/notebooks/../src/scripts/simulation.py:27\u001b[0m, in \u001b[0;36msimulation\u001b[0;34m(simulation_type, circuit_path, inputs_path, fault_input_path, test_vectors_path, delay_consideration, max_iterations, input_file_generation)\u001b[0m\n\u001b[1;32m     25\u001b[0m stuck_at \u001b[38;5;241m=\u001b[39m row[\u001b[38;5;124m\"\u001b[39m\u001b[38;5;124mstuck_at\u001b[39m\u001b[38;5;124m\"\u001b[39m]\n\u001b[1;32m     26\u001b[0m circuit\u001b[38;5;241m.\u001b[39mset_stuck_at_fault(connection_name, \u001b[38;5;28mint\u001b[39m(stuck_at))\n\u001b[0;32m---> 27\u001b[0m test_vector \u001b[38;5;241m=\u001b[39m circuit\u001b[38;5;241m.\u001b[39mrun_podem()\n\u001b[1;32m     28\u001b[0m test_vectors\u001b[38;5;241m.\u001b[39mappend(test_vector)\n\u001b[1;32m     29\u001b[0m \u001b[38;5;28mprint\u001b[39m(\u001b[38;5;124mf\u001b[39m\u001b[38;5;124m\"\u001b[39m\u001b[38;5;124mtest_vector: \u001b[39m\u001b[38;5;132;01m{\u001b[39;00mtest_vector\u001b[38;5;132;01m}\u001b[39;00m\u001b[38;5;124m\"\u001b[39m)\n",
      "File \u001b[0;32m/mnt/c/Sadegh/codes/ISCAS-Test-Simulation/notebooks/../src/classes/circuit.py:23\u001b[0m, in \u001b[0;36mCircuit.run_podem\u001b[0;34m(self)\u001b[0m\n\u001b[1;32m     21\u001b[0m \u001b[38;5;28;01mif\u001b[39;00m(\u001b[38;5;28mself\u001b[39m\u001b[38;5;241m.\u001b[39mfault_connection \u001b[38;5;129;01min\u001b[39;00m \u001b[38;5;28mself\u001b[39m\u001b[38;5;241m.\u001b[39minput_connections):\n\u001b[1;32m     22\u001b[0m      \u001b[38;5;28mprint\u001b[39m(\u001b[38;5;124m\"\u001b[39m\u001b[38;5;124mfault on input connection\u001b[39m\u001b[38;5;124m\"\u001b[39m)\n\u001b[0;32m---> 23\u001b[0m      \u001b[38;5;28mself\u001b[39m\u001b[38;5;241m.\u001b[39mfault_on_input_connection()\n\u001b[1;32m     24\u001b[0m      test_vector \u001b[38;5;241m=\u001b[39m \u001b[38;5;28mself\u001b[39m\u001b[38;5;241m.\u001b[39mget_the_end_result_test_vector()\n\u001b[1;32m     25\u001b[0m      \u001b[38;5;28;01mreturn\u001b[39;00m test_vector\n",
      "File \u001b[0;32m/mnt/c/Sadegh/codes/ISCAS-Test-Simulation/notebooks/../src/classes/circuit.py:45\u001b[0m, in \u001b[0;36mCircuit.fault_on_input_connection\u001b[0;34m(self)\u001b[0m\n\u001b[1;32m     43\u001b[0m \u001b[38;5;28;01mdef\u001b[39;00m \u001b[38;5;21mfault_on_input_connection\u001b[39m(\u001b[38;5;28mself\u001b[39m):\n\u001b[1;32m     44\u001b[0m     gate \u001b[38;5;241m=\u001b[39m \u001b[38;5;28mself\u001b[39m\u001b[38;5;241m.\u001b[39mget_gate_by_input_connection(\u001b[38;5;28mself\u001b[39m\u001b[38;5;241m.\u001b[39mfault_connection)\n\u001b[0;32m---> 45\u001b[0m     \u001b[38;5;28mself\u001b[39m\u001b[38;5;241m.\u001b[39mset_other_inputs(gate)\n\u001b[1;32m     46\u001b[0m     \u001b[38;5;28mself\u001b[39m\u001b[38;5;241m.\u001b[39mpropagate(gate)\n\u001b[1;32m     48\u001b[0m     \u001b[38;5;28;01mif\u001b[39;00m \u001b[38;5;28mself\u001b[39m\u001b[38;5;241m.\u001b[39mcheck_if_fault_reached_output() \u001b[38;5;241m==\u001b[39m \u001b[38;5;28;01mTrue\u001b[39;00m:\n",
      "File \u001b[0;32m/mnt/c/Sadegh/codes/ISCAS-Test-Simulation/notebooks/../src/classes/circuit.py:138\u001b[0m, in \u001b[0;36mCircuit.set_other_inputs\u001b[0;34m(self, gate)\u001b[0m\n\u001b[1;32m    137\u001b[0m \u001b[38;5;28;01mdef\u001b[39;00m \u001b[38;5;21mset_other_inputs\u001b[39m(\u001b[38;5;28mself\u001b[39m, gate):\n\u001b[0;32m--> 138\u001b[0m     \u001b[38;5;28;01mif\u001b[39;00m gate\u001b[38;5;241m.\u001b[39mgate_type \u001b[38;5;241m==\u001b[39m \u001b[38;5;124m'\u001b[39m\u001b[38;5;124mnand\u001b[39m\u001b[38;5;124m'\u001b[39m \u001b[38;5;129;01mor\u001b[39;00m gate\u001b[38;5;241m.\u001b[39mgate_type \u001b[38;5;241m==\u001b[39m \u001b[38;5;124m'\u001b[39m\u001b[38;5;124mand\u001b[39m\u001b[38;5;124m'\u001b[39m:\n\u001b[1;32m    139\u001b[0m         \u001b[38;5;28;01mfor\u001b[39;00m input_connection \u001b[38;5;129;01min\u001b[39;00m gate\u001b[38;5;241m.\u001b[39minput_connections:\n\u001b[1;32m    140\u001b[0m             \u001b[38;5;66;03m# print(input_connection.current_value)\u001b[39;00m\n\u001b[1;32m    141\u001b[0m             \u001b[38;5;28;01mif\u001b[39;00m (input_connection\u001b[38;5;241m.\u001b[39mcurrent_value \u001b[38;5;241m==\u001b[39m \u001b[38;5;124m'\u001b[39m\u001b[38;5;124mD\u001b[39m\u001b[38;5;124m'\u001b[39m \u001b[38;5;129;01mor\u001b[39;00m input_connection\u001b[38;5;241m.\u001b[39mcurrent_value \u001b[38;5;241m==\u001b[39m \u001b[38;5;124m\"\u001b[39m\u001b[38;5;124mD\u001b[39m\u001b[38;5;124m'\u001b[39m\u001b[38;5;124m\"\u001b[39m):\n",
      "\u001b[0;31mAttributeError\u001b[0m: 'NoneType' object has no attribute 'gate_type'"
     ]
    }
   ],
   "source": [
    "simulation(simulation_type, circuit_path, inputs_path, fault_input_path, test_vectors_path, delay_consideration, max_iterations, input_file_generation)"
   ]
  }
 ],
 "metadata": {
  "kernelspec": {
   "display_name": "Python 3 (ipykernel)",
   "language": "python",
   "name": "python3"
  },
  "language_info": {
   "codemirror_mode": {
    "name": "ipython",
    "version": 3
   },
   "file_extension": ".py",
   "mimetype": "text/x-python",
   "name": "python",
   "nbconvert_exporter": "python",
   "pygments_lexer": "ipython3",
   "version": "3.12.7"
  }
 },
 "nbformat": 4,
 "nbformat_minor": 2
}
