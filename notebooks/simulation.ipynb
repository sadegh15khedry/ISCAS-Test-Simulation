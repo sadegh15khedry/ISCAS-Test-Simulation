{
 "cells": [
  {
   "cell_type": "code",
   "execution_count": 1,
   "metadata": {},
   "outputs": [],
   "source": [
    "import sys\n",
    "import os\n",
    "sys.path.append('../src/scripts')\n",
    "sys.path.append('../src/classes')\n",
    "from simulation import simulation\n"
   ]
  },
  {
   "cell_type": "code",
   "execution_count": 2,
   "metadata": {},
   "outputs": [],
   "source": [
    "circuit_path = '../src/resources/circuits/c17.isc'\n",
    "inputs_path = '../src/resources/inputs/c17.csv'\n",
    "test_vecotors_path = '../src/resources/test_vecors/c17.csv'"
   ]
  },
  {
   "cell_type": "code",
   "execution_count": 3,
   "metadata": {},
   "outputs": [
    {
     "name": "stdout",
     "output_type": "stream",
     "text": [
      "circuit input: 1 level: 0\n",
      "circuit input: 2 level: 0\n",
      "circuit input: 3 level: 0\n",
      "circuit input: 6 level: 0\n",
      "circuit input: 7 level: 0\n",
      "fanout 1\n",
      "0\n",
      "circuit input: 8 level: 0\n",
      "fanout output: 8 level: 0\n",
      "circuit input: 9 level: 0\n",
      "fanout output: 9 level: 0\n",
      "fanout 2\n",
      "fanout 3\n",
      "circuit input: 10 level: 1\n",
      "conneciton name: 10 level:1\n",
      "circuit input: 11 level: 1\n",
      "conneciton name: 10 level:1\n"
     ]
    }
   ],
   "source": [
    "simulation(circuit_path, inputs_path, test_vecotors_path)"
   ]
  }
 ],
 "metadata": {
  "kernelspec": {
   "display_name": "Python 3 (ipykernel)",
   "language": "python",
   "name": "python3"
  },
  "language_info": {
   "codemirror_mode": {
    "name": "ipython",
    "version": 3
   },
   "file_extension": ".py",
   "mimetype": "text/x-python",
   "name": "python",
   "nbconvert_exporter": "python",
   "pygments_lexer": "ipython3",
   "version": "3.13.0"
  }
 },
 "nbformat": 4,
 "nbformat_minor": 2
}
