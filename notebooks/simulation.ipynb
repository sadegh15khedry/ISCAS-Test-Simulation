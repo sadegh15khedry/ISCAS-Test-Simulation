{
 "cells": [
  {
   "cell_type": "code",
   "execution_count": 1,
   "metadata": {},
   "outputs": [
    {
     "name": "stdout",
     "output_type": "stream",
     "text": [
      "gate type: nand\n",
      "gate type: nand\n",
      "gate type: nand\n",
      "gate type: nand\n",
      "gate type: nand\n",
      "gate type: nand\n",
      "fanout: 3gat -> 1\n",
      "fanout: 3gat -> 1\n",
      "fanout: 11gat -> 1\n",
      "fanout: 11gat -> 1\n",
      "fanout: 16gat -> 1\n",
      "fanout: 16gat -> 1\n"
     ]
    }
   ],
   "source": [
    "import sys\n",
    "import os\n",
    "\n",
    "sys.path.append('../src/scripts')\n",
    "sys.path.append('../src/classes')\n",
    "from simulation import simulation\n",
    "\n",
    "circuit_path = '../src/resources/circuits/c17.isc'\n",
    "inputs_path = '../src/resources/inputs/c17.csv'\n",
    "test_vecotors_path = '../src/resources/test_vecors/c17.tv'\n",
    "\n",
    "simulation(circuit_path, inputs_path, test_vecotors_path)"
   ]
  }
 ],
 "metadata": {
  "kernelspec": {
   "display_name": "Python 3 (ipykernel)",
   "language": "python",
   "name": "python3"
  },
  "language_info": {
   "codemirror_mode": {
    "name": "ipython",
    "version": 3
   },
   "file_extension": ".py",
   "mimetype": "text/x-python",
   "name": "python",
   "nbconvert_exporter": "python",
   "pygments_lexer": "ipython3",
   "version": "3.13.0"
  }
 },
 "nbformat": 4,
 "nbformat_minor": 2
}
