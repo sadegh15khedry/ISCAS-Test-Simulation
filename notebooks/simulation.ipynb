{
 "cells": [
  {
   "cell_type": "code",
   "execution_count": 1,
   "metadata": {},
   "outputs": [
    {
     "name": "stdout",
     "output_type": "stream",
     "text": [
      "inpt [] 1gat\n",
      "inpt [] 2gat\n",
      "inpt [] 3gat\n",
      "from [] 8fan\n",
      "from [] 9fan\n",
      "inpt [] 6gat\n",
      "inpt [] 7gat\n",
      "nand ['1', '8'] 10gat\n",
      "nand ['9', '6'] 11gat\n",
      "from [] 14fan\n",
      "from [] 15fan\n",
      "nand ['2', '14'] 16gat\n",
      "from [] 20fan\n",
      "from [] 21fan\n",
      "nand ['15', '7'] 19gat\n",
      "nand ['10', '20'] 22gat\n",
      "nand ['21', '19'] 23gat\n"
     ]
    }
   ],
   "source": [
    "import sys\n",
    "import os\n",
    "\n",
    "sys.path.append('../src/scripts')\n",
    "sys.path.append('../src/classes')\n",
    "from simulation import simulation\n",
    "\n",
    "circuit_path = '../src/resources/circuits/c17.isc'\n",
    "inputs_path = '../src/resources/inputs/c17.csv'\n",
    "test_vecotors_path = '../src/resources/test_vecors/c17.tv'\n",
    "\n",
    "simulation(circuit_path, inputs_path, test_vecotors_path)"
   ]
  }
 ],
 "metadata": {
  "kernelspec": {
   "display_name": "Python 3 (ipykernel)",
   "language": "python",
   "name": "python3"
  },
  "language_info": {
   "codemirror_mode": {
    "name": "ipython",
    "version": 3
   },
   "file_extension": ".py",
   "mimetype": "text/x-python",
   "name": "python",
   "nbconvert_exporter": "python",
   "pygments_lexer": "ipython3",
   "version": "3.13.0"
  }
 },
 "nbformat": 4,
 "nbformat_minor": 2
}
